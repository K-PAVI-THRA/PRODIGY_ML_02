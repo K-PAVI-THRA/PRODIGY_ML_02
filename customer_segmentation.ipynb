import pandas as pd
from sklearn.cluster import KMeans
import matplotlib.pyplot as plt

# Load dataset
df = pd.read_csv('/content/drive/MyDrive/Datasets/Mall_Customers.csv')

# Select relevant features (e.g., Annual Income and Spending Score)
X = df[['Annual Income (k$)', 'Spending Score (1-100)']]

# Initialize K-Means with the chosen number of clusters
kmeans = KMeans(n_clusters=5, random_state=42)

# Fit the model
kmeans.fit(X)

# Predict the clusters
df['Cluster'] = kmeans.predict(X)

# Visualize the clusters
plt.scatter(X['Annual Income (k$)'], X['Spending Score (1-100)'], c=df['Cluster'], cmap='viridis')
plt.scatter(kmeans.cluster_centers_[:, 0], kmeans.cluster_centers_[:, 1], s=300, c='red')
plt.xlabel('Annual Income (k$)')
plt.ylabel('Spending Score (1-100)')
plt.title('Customer Segmentation')
plt.show()
